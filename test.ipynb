{
 "cells": [
  {
   "cell_type": "code",
   "execution_count": null,
   "id": "ef4260dd-594a-48c9-b2c7-766dd8708f36",
   "metadata": {},
   "outputs": [],
   "source": [
    "import pandas as pd\n",
    "import numpy as np\n",
    "from sklearn.model_selection import train_test_split, cross_val_score\n",
    "from sklearn.linear_model import LassoCV\n",
    "from sklearn.preprocessing import StandardScaler\n",
    "from sklearn.pipeline import Pipeline\n",
    "\n",
    "# Example: Load Fama-French 5-factor data and returns\n",
    "# Replace with your actual dataset\n",
    "def load_data():\n",
    "    # Load factor data (Fama-French 5-Factor)\n",
    "    factors = pd.read_csv(\"factors.csv\", index_col=0, parse_dates=True)\n",
    "    factors.rename(columns=str.strip, inplace=True)\n",
    "\n",
    "    # Load stock or portfolio returns\n",
    "    returns = pd.read_csv(\"returns.csv\", index_col=0, parse_dates=True)\n",
    "    returns.rename(columns=str.strip, inplace=True)\n",
    "\n",
    "    # Align dates\n",
    "    data = factors.join(returns, how='inner')\n",
    "    return data\n",
    "\n",
    "data = load_data()\n",
    "X = data[[\"Mkt-RF\", \"SMB\", \"HML\", \"RMW\", \"CMA\"]]  # Factors\n",
    "y = data[\"Portfolio_Return\"]  # Dependent variable (portfolio returns)\n",
    "\n",
    "# Add nonlinear transformations\n",
    "X[\"Mkt_RF_squared\"] = X[\"Mkt-RF\"] ** 2\n",
    "X[\"HML_SMB_interaction\"] = X[\"HML\"] * X[\"SMB\"]\n"
   ]
  },
  {
   "cell_type": "code",
   "execution_count": null,
   "id": "e679ef62-ebeb-432b-9e76-a9b68a9403ff",
   "metadata": {},
   "outputs": [],
   "source": []
  }
 ],
 "metadata": {
  "kernelspec": {
   "display_name": "Python 3 (ipykernel)",
   "language": "python",
   "name": "python3"
  },
  "language_info": {
   "codemirror_mode": {
    "name": "ipython",
    "version": 3
   },
   "file_extension": ".py",
   "mimetype": "text/x-python",
   "name": "python",
   "nbconvert_exporter": "python",
   "pygments_lexer": "ipython3",
   "version": "3.11.7"
  }
 },
 "nbformat": 4,
 "nbformat_minor": 5
}
